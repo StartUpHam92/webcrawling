{
 "cells": [
  {
   "cell_type": "code",
   "execution_count": 2,
   "metadata": {},
   "outputs": [
    {
     "name": "stdout",
     "output_type": "stream",
     "text": [
      "0:07:05.912360\n"
     ]
    }
   ],
   "source": [
    "from selenium import webdriver\n",
    "from bs4 import BeautifulSoup\n",
    "import time\n",
    "\n",
    "def get_replys(url,imp_time=5,delay_time=0.1):\n",
    "\n",
    "    #웹 드라이버\n",
    "    driver = webdriver.Chrome('C:/Users/SAMSUNG/github/pytorch1/webcroller/chromedriver.exe')\n",
    "    driver.implicitly_wait(imp_time)\n",
    "    driver.get(url)\n",
    "\n",
    "    #더보기 계속 클릭하기\n",
    "    while True:\n",
    "        try:\n",
    "            more = driver.find_element_by_css_selector('button#livereMoreBtn.livereBtn1')\n",
    "            more.click()\n",
    "            time.sleep(delay_time)\n",
    "            driver.implicitly_wait(imp_time)\n",
    "\n",
    "        except:\n",
    "            break\n",
    "\n",
    "    html = driver.page_source\n",
    "    soup = BeautifulSoup(html, 'html.parser')\n",
    "\n",
    "        # 댓글추출\n",
    "    contents = soup.select('dd.livereArticleText > p')\n",
    "    contents = [content.text for content in contents]\n",
    "\n",
    "    return contents\n",
    "\n",
    "if __name__ == '__main__':\n",
    "    from datetime import datetime\n",
    "    start = datetime.now()\n",
    "\n",
    "    url = 'http://sulli.sunfull.or.kr/'\n",
    "    reply_data = get_replys(url,120,1.5)\n",
    "\n",
    "    import pandas as pd #pandas, openpyxl\n",
    "    col =['text']\n",
    "    data_frame = pd.DataFrame(reply_data,columns=col)\n",
    "    data_frame.to_excel('sulli.xlsx',sheet_name='001',startrow=0,header=True)\n",
    "\n",
    "    end = datetime.now()\n",
    "    print(end-start)"
   ]
  },
  {
   "cell_type": "code",
   "execution_count": null,
   "metadata": {},
   "outputs": [],
   "source": []
  }
 ],
 "metadata": {
  "kernelspec": {
   "display_name": "Python 3",
   "language": "python",
   "name": "python3"
  },
  "language_info": {
   "codemirror_mode": {
    "name": "ipython",
    "version": 3
   },
   "file_extension": ".py",
   "mimetype": "text/x-python",
   "name": "python",
   "nbconvert_exporter": "python",
   "pygments_lexer": "ipython3",
   "version": "3.6.5"
  }
 },
 "nbformat": 4,
 "nbformat_minor": 2
}
